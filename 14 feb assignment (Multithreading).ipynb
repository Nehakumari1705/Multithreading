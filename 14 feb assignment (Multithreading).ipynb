{
 "cells": [
  {
   "cell_type": "markdown",
   "id": "7926551a",
   "metadata": {},
   "source": [
    "#### Q1. What is multithreading in python?Why is it used? Name the module used to handle threads in python."
   ]
  },
  {
   "cell_type": "markdown",
   "id": "f8d659d1",
   "metadata": {},
   "source": [
    " Ans- Multithreading is a techinque which allows a  CPU to execute multiple threads of one process at the same time.\n",
    "\n",
    "It is used to run multiple tasks and functions at the same time.\n",
    "\n",
    "The module used to handle threads in Python is called \"threading\"."
   ]
  },
  {
   "cell_type": "markdown",
   "id": "e52d74cc",
   "metadata": {},
   "source": [
    "#### Q2. Why threading module used? Write the use of the following functions :\n",
    "\n",
    "1. activeCount()\n",
    "2. currentThread()\n",
    "3. enumerate()"
   ]
  },
  {
   "cell_type": "markdown",
   "id": "8c9e701c",
   "metadata": {},
   "source": [
    "Ans- The threading module in Python is used to handle threads and achieve multithreading. It provides a simple and easy-to-use interface to create, start, stop, and synchronize threads in Python programs.\n",
    "\n",
    "#### 1. activeCount():\n",
    "\n",
    "activeCount() is used to get the number of currently active threads in the program.\n",
    "It returns the count of all Thread objects that are currently alive, including the main thread.\n",
    "\n",
    "\n",
    "#### 2. currentThread():\n",
    "\n",
    "currentThread() is used to get the current Thread object corresponding to the calling thread.\n",
    "This function returns the Thread object representing the thread from which it is called.\n",
    "\n",
    "#### 3. enumerate():\n",
    "\n",
    "enumerate() is used to get a list of all currently active Thread objects.\n",
    "It returns a list of all Thread objects that are currently alive, including the main thread.\n",
    "This function is useful for iterating through all threads and performing actions based on their status or properties."
   ]
  },
  {
   "cell_type": "markdown",
   "id": "5864b575",
   "metadata": {},
   "source": [
    "#### Q3. Explain the following functions :\n",
    "\n",
    "1. run()\n",
    "2. start()\n",
    "3. join()\n",
    "4. isAlive()"
   ]
  },
  {
   "cell_type": "markdown",
   "id": "2df23b7e",
   "metadata": {},
   "source": [
    "Ans- \n",
    "\n",
    "#### run():\n",
    "\n",
    "run() is a method that you can define within a custom Thread class or a subclass of the Thread class.\n",
    "It represents the task or job that the thread should execute when it is started.\n",
    "When you call start() on a thread object, it will internally call the run() method to begin the thread's execution.\n",
    "\n",
    "#### start():\n",
    "\n",
    "start() is used to begin the execution of a thread and run the code defined in its run() method.\n",
    "Once you call start() on a thread object, it will create a new thread of execution that runs concurrently with the other threads in the program.\n",
    "You should not call the run() method directly if you want to achieve true multithreading; instead, use start().\n",
    "\n",
    "\n",
    "#### join():\n",
    "\n",
    "join() is used to wait for a thread to complete its execution before moving on to the next part of the program.\n",
    "When you call join() on a thread object, the program will pause and wait until that thread finishes its task.\n",
    "This is often used to ensure that the main thread waits for all other threads to finish before terminating the program.\n",
    "\n",
    "\n",
    "#### isAlive():\n",
    "\n",
    "isAlive() is a method that checks whether a thread is currently running or not.\n",
    "It returns True if the thread is still active (running) and False if the thread has completed its execution.\n",
    "You can use this method to check the status of a thread and perform actions based on whether the thread is still running or has finished its task."
   ]
  },
  {
   "cell_type": "markdown",
   "id": "01a3e029",
   "metadata": {},
   "source": [
    "#### Q4. Write a python program to create two threads. Thread one must print the list of squares and thread two must print the list of cubes."
   ]
  },
  {
   "cell_type": "code",
   "execution_count": 2,
   "id": "c103a711",
   "metadata": {},
   "outputs": [
    {
     "name": "stdout",
     "output_type": "stream",
     "text": [
      "List of squares: [1, 4, 9, 16, 25, 36, 49, 64, 81, 100]\n",
      "List of cubes: [1, 8, 27, 64, 125, 216, 343, 512, 729, 1000]\n",
      "Both threads have finished.\n"
     ]
    }
   ],
   "source": [
    "import threading\n",
    "\n",
    "def print_squares():\n",
    "    squares = [i ** 2 for i in range(1, 11)]\n",
    "    print(\"List of squares:\", squares)\n",
    "\n",
    "def print_cubes():\n",
    "    cubes = [i ** 3 for i in range(1, 11)]\n",
    "    print(\"List of cubes:\", cubes)\n",
    "\n",
    "# Create the threads\n",
    "thread1 = threading.Thread(target=print_squares)\n",
    "thread2 = threading.Thread(target=print_cubes)\n",
    "\n",
    "# Start the threads\n",
    "thread1.start()\n",
    "thread2.start()\n",
    "\n",
    "# Wait for both threads to finish\n",
    "thread1.join()\n",
    "thread2.join()\n",
    "\n",
    "print(\"Both threads have finished.\")\n"
   ]
  },
  {
   "cell_type": "markdown",
   "id": "853c7d94",
   "metadata": {},
   "source": [
    "#### Q5. State advantages and disadvantages of multithreading ."
   ]
  },
  {
   "cell_type": "markdown",
   "id": "d64100b7",
   "metadata": {},
   "source": [
    "#### Ans\n",
    "\n",
    "#### Advantages of Multithreading:\n",
    "\n",
    "1. Improved Responsiveness: Multithreading allows a program to do multiple things at the same time, making it more responsive and interactive, especially for tasks involving input/output operations or user interactions.\n",
    "\n",
    "2. Efficient Resource Utilization: Threads share the same memory space, so they can efficiently use system resources. It reduces the overhead of creating separate processes for different tasks.\n",
    "\n",
    "3. Faster Execution: In some cases, multithreading can lead to faster execution, as multiple threads can work on different parts of a task concurrently, potentially reducing overall processing time.\n",
    "\n",
    "#### Disadvantages of Multithreading:\n",
    "\n",
    "1. Complexity: Multithreading introduces complexity due to the need for synchronization mechanisms (like mutexes) to avoid conflicts when multiple threads access shared resources. Dealing with synchronization can lead to bugs and difficult-to-debug issues.\n",
    "\n",
    "2. Race Conditions: Race conditions may occur when multiple threads try to access and modify shared resources simultaneously, leading to unpredictable behavior and data corruption.\n",
    "\n",
    "3. Global Interpreter Lock (GIL): In some programming languages, like Python, the Global Interpreter Lock (GIL) can limit the true parallelism of CPU-bound tasks with pure Python threads, reducing the performance gain.\n",
    "\n",
    "4. Debugging Difficulties: Debugging multithreaded applications can be challenging, as the timing and order of thread execution can vary, making it harder to reproduce and identify issues.\n",
    "\n",
    "In summary, multithreading can greatly improve program responsiveness and resource utilization, but it requires careful management of shared resources and synchronization to avoid potential issues like race conditions and complexity in code. Debugging multithreaded applications can also be more challenging compared to single-threaded ones.\n",
    "\n",
    "\n",
    "\n",
    "\n"
   ]
  },
  {
   "cell_type": "markdown",
   "id": "37a5d710",
   "metadata": {},
   "source": [
    "#### Q6. Explain deadlocks and race conditions."
   ]
  },
  {
   "cell_type": "markdown",
   "id": "b6afa91f",
   "metadata": {},
   "source": [
    "#### Deadlock:\n",
    "\n",
    "Deadlock is a situation where two or more threads are stuck because each is waiting for the other to release a resource, causing the program to get stuck.\n",
    "\n",
    "#### Race Condition:\n",
    "\n",
    "A race condition is when multiple threads access a shared resource simultaneously, and the final result becomes unpredictable because it depends on the specific order of thread execution. This can lead to data corruption or incorrect outcomes."
   ]
  },
  {
   "cell_type": "code",
   "execution_count": null,
   "id": "ca793e4e",
   "metadata": {},
   "outputs": [],
   "source": []
  }
 ],
 "metadata": {
  "kernelspec": {
   "display_name": "Python 3 (ipykernel)",
   "language": "python",
   "name": "python3"
  },
  "language_info": {
   "codemirror_mode": {
    "name": "ipython",
    "version": 3
   },
   "file_extension": ".py",
   "mimetype": "text/x-python",
   "name": "python",
   "nbconvert_exporter": "python",
   "pygments_lexer": "ipython3",
   "version": "3.9.13"
  }
 },
 "nbformat": 4,
 "nbformat_minor": 5
}
